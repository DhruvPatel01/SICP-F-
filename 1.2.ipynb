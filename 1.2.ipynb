{
 "cells": [
  {
   "cell_type": "code",
   "execution_count": 19,
   "metadata": {},
   "outputs": [],
   "source": [
    "let fib n =\n",
    "    let rec loop acc1 acc2 n =\n",
    "        match n with\n",
    "        | 0 -> acc1\n",
    "        | 1 -> acc2\n",
    "        | _ ->\n",
    "            loop acc2 (acc1 + acc2) (n - 1)\n",
    "    loop 0 1 n"
   ]
  },
  {
   "cell_type": "markdown",
   "metadata": {},
   "source": [
    "#### Exercise 1.16"
   ]
  },
  {
   "cell_type": "code",
   "execution_count": 1,
   "metadata": {},
   "outputs": [
    {
     "data": {
      "text/html": [
       "\r\n",
       "<div>\r\n",
       "    <div id='dotnet-interactive-this-cell-11017.Microsoft.DotNet.Interactive.Http.HttpPort' style='display: none'>\r\n",
       "        The below script needs to be able to find the current output cell; this is an easy method to get it.\r\n",
       "    </div>\r\n",
       "    <script type='text/javascript'>\r\n",
       "async function probeAddresses(probingAddresses) {\r\n",
       "    function timeout(ms, promise) {\r\n",
       "        return new Promise(function (resolve, reject) {\r\n",
       "            setTimeout(function () {\r\n",
       "                reject(new Error('timeout'))\r\n",
       "            }, ms)\r\n",
       "            promise.then(resolve, reject)\r\n",
       "        })\r\n",
       "    }\r\n",
       "\r\n",
       "    if (Array.isArray(probingAddresses)) {\r\n",
       "        for (let i = 0; i < probingAddresses.length; i++) {\r\n",
       "\r\n",
       "            let rootUrl = probingAddresses[i];\r\n",
       "\r\n",
       "            if (!rootUrl.endsWith('/')) {\r\n",
       "                rootUrl = `${rootUrl}/`;\r\n",
       "            }\r\n",
       "\r\n",
       "            try {\r\n",
       "                let response = await timeout(1000, fetch(`${rootUrl}discovery`, {\r\n",
       "                    method: 'POST',\r\n",
       "                    cache: 'no-cache',\r\n",
       "                    mode: 'cors',\r\n",
       "                    timeout: 1000,\r\n",
       "                    headers: {\r\n",
       "                        'Content-Type': 'text/plain'\r\n",
       "                    },\r\n",
       "                    body: probingAddresses[i]\r\n",
       "                }));\r\n",
       "\r\n",
       "                if (response.status == 200) {\r\n",
       "                    return rootUrl;\r\n",
       "                }\r\n",
       "            }\r\n",
       "            catch (e) { }\r\n",
       "        }\r\n",
       "    }\r\n",
       "}\r\n",
       "\r\n",
       "function loadDotnetInteractiveApi() {\r\n",
       "    probeAddresses([\"http://192.168.1.41:1024/\", \"http://127.0.0.1:1024/\"])\r\n",
       "        .then((root) => {\r\n",
       "        // use probing to find host url and api resources\r\n",
       "        // load interactive helpers and language services\r\n",
       "        let dotnetInteractiveRequire = require.config({\r\n",
       "        context: '11017.Microsoft.DotNet.Interactive.Http.HttpPort',\r\n",
       "                paths:\r\n",
       "            {\r\n",
       "                'dotnet-interactive': `${root}resources`\r\n",
       "                }\r\n",
       "        }) || require;\r\n",
       "\r\n",
       "            window.dotnetInteractiveRequire = dotnetInteractiveRequire;\r\n",
       "\r\n",
       "            window.configureRequireFromExtension = function(extensionName, extensionCacheBuster) {\r\n",
       "                let paths = {};\r\n",
       "                paths[extensionName] = `${root}extensions/${extensionName}/resources/`;\r\n",
       "                \r\n",
       "                let internalRequire = require.config({\r\n",
       "                    context: extensionCacheBuster,\r\n",
       "                    paths: paths,\r\n",
       "                    urlArgs: `cacheBuster=${extensionCacheBuster}`\r\n",
       "                    }) || require;\r\n",
       "\r\n",
       "                return internalRequire\r\n",
       "            };\r\n",
       "        \r\n",
       "            dotnetInteractiveRequire([\r\n",
       "                    'dotnet-interactive/dotnet-interactive'\r\n",
       "                ],\r\n",
       "                function (dotnet) {\r\n",
       "                    dotnet.init(window);\r\n",
       "                },\r\n",
       "                function (error) {\r\n",
       "                    console.log(error);\r\n",
       "                }\r\n",
       "            );\r\n",
       "        })\r\n",
       "        .catch(error => {console.log(error);});\r\n",
       "    }\r\n",
       "\r\n",
       "// ensure `require` is available globally\r\n",
       "if ((typeof(require) !==  typeof(Function)) || (typeof(require.config) !== typeof(Function))) {\r\n",
       "    let require_script = document.createElement('script');\r\n",
       "    require_script.setAttribute('src', 'https://cdnjs.cloudflare.com/ajax/libs/require.js/2.3.6/require.min.js');\r\n",
       "    require_script.setAttribute('type', 'text/javascript');\r\n",
       "    \r\n",
       "    \r\n",
       "    require_script.onload = function() {\r\n",
       "        loadDotnetInteractiveApi();\r\n",
       "    };\r\n",
       "\r\n",
       "    document.getElementsByTagName('head')[0].appendChild(require_script);\r\n",
       "}\r\n",
       "else {\r\n",
       "    loadDotnetInteractiveApi();\r\n",
       "}\r\n",
       "\r\n",
       "    </script>\r\n",
       "</div>"
      ]
     },
     "metadata": {},
     "output_type": "display_data"
    }
   ],
   "source": [
    "let exp b n = \n",
    "    let rec loop a b n =\n",
    "        match n with \n",
    "        | 1 -> a * b\n",
    "        | _ -> if n%2 = 0 then loop a (b*b) (n/2) else loop (a*b) (b*b) ((n-1)/2)\n",
    "    loop 1 b n"
   ]
  },
  {
   "cell_type": "code",
   "execution_count": 2,
   "metadata": {},
   "outputs": [
    {
     "data": {
      "text/html": [
       "<div class=\"dni-plaintext\">32</div>"
      ]
     },
     "execution_count": 2,
     "metadata": {},
     "output_type": "execute_result"
    }
   ],
   "source": [
    "exp 2 5"
   ]
  },
  {
   "cell_type": "code",
   "execution_count": 3,
   "metadata": {},
   "outputs": [
    {
     "data": {
      "text/html": [
       "<div class=\"dni-plaintext\">27</div>"
      ]
     },
     "execution_count": 3,
     "metadata": {},
     "output_type": "execute_result"
    }
   ],
   "source": [
    "exp 3 3"
   ]
  },
  {
   "cell_type": "markdown",
   "metadata": {},
   "source": [
    "#### Exercise 1.17"
   ]
  },
  {
   "cell_type": "code",
   "execution_count": 4,
   "metadata": {},
   "outputs": [],
   "source": [
    "let double x = x*2\n",
    "let halve x = x/2"
   ]
  },
  {
   "cell_type": "code",
   "execution_count": 7,
   "metadata": {},
   "outputs": [
    {
     "data": {
      "text/html": [
       "<div class=\"dni-plaintext\">4</div>"
      ]
     },
     "execution_count": 7,
     "metadata": {},
     "output_type": "execute_result"
    }
   ],
   "source": [
    "double 2"
   ]
  },
  {
   "cell_type": "code",
   "execution_count": 35,
   "metadata": {},
   "outputs": [
    {
     "data": {
      "text/html": [
       "<div class=\"dni-plaintext\">2</div>"
      ]
     },
     "execution_count": 35,
     "metadata": {},
     "output_type": "execute_result"
    }
   ],
   "source": [
    "halve 4"
   ]
  },
  {
   "cell_type": "code",
   "execution_count": 40,
   "metadata": {},
   "outputs": [],
   "source": [
    "let rec fast_mul_rec a b =\n",
    "    if b = 0 then 0\n",
    "    elif b%2 = 0 then fast_mul_rec (2*a) (b/2)\n",
    "    else a + (fast_mul_rec a (b-1))"
   ]
  },
  {
   "cell_type": "markdown",
   "metadata": {},
   "source": [
    "#### Exercise 1.18"
   ]
  },
  {
   "cell_type": "code",
   "execution_count": 45,
   "metadata": {},
   "outputs": [],
   "source": [
    "let fast_mul a b = \n",
    "    let rec loop acc a b = \n",
    "        if b = 0 then acc\n",
    "        elif b%2 = 1 then loop (acc+a) (double a) (halve (b - 1)) \n",
    "        else loop acc (double a) (halve b)\n",
    "    loop 0 a b"
   ]
  },
  {
   "cell_type": "code",
   "execution_count": 46,
   "metadata": {},
   "outputs": [
    {
     "name": "stdout",
     "output_type": "stream",
     "text": [
      "5 x 0 = 0\n",
      "5 x 1 = 5\n",
      "5 x 2 = 10\n",
      "5 x 3 = 15\n",
      "5 x 4 = 20\n",
      "5 x 5 = 25\n",
      "5 x 6 = 30\n",
      "5 x 7 = 35\n",
      "5 x 8 = 40\n",
      "5 x 9 = 45\n",
      "5 x 10 = 50\n"
     ]
    }
   ],
   "source": [
    "//you can ignore the for part and printfn as they are not discussed in the book.\n",
    "//I just learned them from the Internet to quickly test the implementation.\n",
    "\n",
    "for i in 0 .. 10 do \n",
    "    printfn $\"5 x {i} = {fast_mul 5 i}\""
   ]
  },
  {
   "cell_type": "markdown",
   "metadata": {},
   "source": [
    "#### Exercise 1.19"
   ]
  },
  {
   "cell_type": "markdown",
   "metadata": {},
   "source": [
    "##### Derivation 1\n",
    "\n",
    "$$\n",
    "\\begin{align*}\n",
    "T_{pq}(a, b) &= (ap + aq + bq, bp + aq) \\\\\n",
    "T^2_{pq}(a, b) &= T_{pq}(T_{pq}(a, b)) \\\\\n",
    "               &= T_{pq}(ap + aq + bq, bp + aq) \\\\\n",
    "               &= (ap + aq + bq)p + (ap + aq + bq)q + (bp + aq)q, (bp + aq)p + (ap + aq + bq)q \\\\\n",
    "               &= (ap^2 + apq + bpq) + (apq + aq^2 + bq^2) + (bpq + aq^2), (bp^2 + apq)+(apq + aq^2 + bq^2) \\\\\n",
    "               &= a(p^2 + q^2) + a(2pq + q^2) + b(2pq + q^2), b(p^2 + q^2) + a(2pq + q^2)\n",
    "\\end{align*}\n",
    "$$\n",
    "Thus, \n",
    "$T^2{pq} = T_{p'q'}$\n",
    "\n",
    "Where, $p' = p^2 + q^2$ and $q' = 2pq + q^2$\n",
    "\n",
    "Also, $Fib(n) = (T^n_{01}(1, 0))[0]$"
   ]
  },
  {
   "cell_type": "markdown",
   "metadata": {},
   "source": [
    "##### Derivation 2\n",
    "\n",
    "Since $T$ is a linear function in it's arguments, it can be represented as a matrix.\n",
    "\n",
    "$$\n",
    "\\begin{align*}\n",
    "T &= \\begin{bmatrix}\n",
    "        p+q & q \\\\\n",
    "        q   & p\n",
    "     \\end{bmatrix}\n",
    "\\end{align*}\n",
    "$$\n",
    "\n",
    "Thus,\n",
    "$$\n",
    "\\begin{align*}\n",
    "T^2 &= \\begin{bmatrix}\n",
    "        p+q & q \\\\\n",
    "        q   & p\n",
    "     \\end{bmatrix}  \n",
    "     \\begin{bmatrix}\n",
    "        p+q & q \\\\\n",
    "        q   & p\n",
    "     \\end{bmatrix} \n",
    "     \\\\\n",
    "     &= \\begin{bmatrix}\n",
    "        p^2+q^2+2pq+q^2 & 2pq + q^2 \\\\\n",
    "        2pq + q^2   & p^2 + q^2\n",
    "     \\end{bmatrix}\n",
    "\\end{align*}\n",
    "$$\n"
   ]
  },
  {
   "cell_type": "code",
   "execution_count": 1,
   "metadata": {},
   "outputs": [
    {
     "data": {
      "text/html": [
       "\r\n",
       "<div>\r\n",
       "    <div id='dotnet-interactive-this-cell-32156.Microsoft.DotNet.Interactive.Http.HttpPort' style='display: none'>\r\n",
       "        The below script needs to be able to find the current output cell; this is an easy method to get it.\r\n",
       "    </div>\r\n",
       "    <script type='text/javascript'>\r\n",
       "async function probeAddresses(probingAddresses) {\r\n",
       "    function timeout(ms, promise) {\r\n",
       "        return new Promise(function (resolve, reject) {\r\n",
       "            setTimeout(function () {\r\n",
       "                reject(new Error('timeout'))\r\n",
       "            }, ms)\r\n",
       "            promise.then(resolve, reject)\r\n",
       "        })\r\n",
       "    }\r\n",
       "\r\n",
       "    if (Array.isArray(probingAddresses)) {\r\n",
       "        for (let i = 0; i < probingAddresses.length; i++) {\r\n",
       "\r\n",
       "            let rootUrl = probingAddresses[i];\r\n",
       "\r\n",
       "            if (!rootUrl.endsWith('/')) {\r\n",
       "                rootUrl = `${rootUrl}/`;\r\n",
       "            }\r\n",
       "\r\n",
       "            try {\r\n",
       "                let response = await timeout(1000, fetch(`${rootUrl}discovery`, {\r\n",
       "                    method: 'POST',\r\n",
       "                    cache: 'no-cache',\r\n",
       "                    mode: 'cors',\r\n",
       "                    timeout: 1000,\r\n",
       "                    headers: {\r\n",
       "                        'Content-Type': 'text/plain'\r\n",
       "                    },\r\n",
       "                    body: probingAddresses[i]\r\n",
       "                }));\r\n",
       "\r\n",
       "                if (response.status == 200) {\r\n",
       "                    return rootUrl;\r\n",
       "                }\r\n",
       "            }\r\n",
       "            catch (e) { }\r\n",
       "        }\r\n",
       "    }\r\n",
       "}\r\n",
       "\r\n",
       "function loadDotnetInteractiveApi() {\r\n",
       "    probeAddresses([\"http://192.168.1.41:1025/\", \"http://127.0.0.1:1025/\"])\r\n",
       "        .then((root) => {\r\n",
       "        // use probing to find host url and api resources\r\n",
       "        // load interactive helpers and language services\r\n",
       "        let dotnetInteractiveRequire = require.config({\r\n",
       "        context: '32156.Microsoft.DotNet.Interactive.Http.HttpPort',\r\n",
       "                paths:\r\n",
       "            {\r\n",
       "                'dotnet-interactive': `${root}resources`\r\n",
       "                }\r\n",
       "        }) || require;\r\n",
       "\r\n",
       "            window.dotnetInteractiveRequire = dotnetInteractiveRequire;\r\n",
       "\r\n",
       "            window.configureRequireFromExtension = function(extensionName, extensionCacheBuster) {\r\n",
       "                let paths = {};\r\n",
       "                paths[extensionName] = `${root}extensions/${extensionName}/resources/`;\r\n",
       "                \r\n",
       "                let internalRequire = require.config({\r\n",
       "                    context: extensionCacheBuster,\r\n",
       "                    paths: paths,\r\n",
       "                    urlArgs: `cacheBuster=${extensionCacheBuster}`\r\n",
       "                    }) || require;\r\n",
       "\r\n",
       "                return internalRequire\r\n",
       "            };\r\n",
       "        \r\n",
       "            dotnetInteractiveRequire([\r\n",
       "                    'dotnet-interactive/dotnet-interactive'\r\n",
       "                ],\r\n",
       "                function (dotnet) {\r\n",
       "                    dotnet.init(window);\r\n",
       "                },\r\n",
       "                function (error) {\r\n",
       "                    console.log(error);\r\n",
       "                }\r\n",
       "            );\r\n",
       "        })\r\n",
       "        .catch(error => {console.log(error);});\r\n",
       "    }\r\n",
       "\r\n",
       "// ensure `require` is available globally\r\n",
       "if ((typeof(require) !==  typeof(Function)) || (typeof(require.config) !== typeof(Function))) {\r\n",
       "    let require_script = document.createElement('script');\r\n",
       "    require_script.setAttribute('src', 'https://cdnjs.cloudflare.com/ajax/libs/require.js/2.3.6/require.min.js');\r\n",
       "    require_script.setAttribute('type', 'text/javascript');\r\n",
       "    \r\n",
       "    \r\n",
       "    require_script.onload = function() {\r\n",
       "        loadDotnetInteractiveApi();\r\n",
       "    };\r\n",
       "\r\n",
       "    document.getElementsByTagName('head')[0].appendChild(require_script);\r\n",
       "}\r\n",
       "else {\r\n",
       "    loadDotnetInteractiveApi();\r\n",
       "}\r\n",
       "\r\n",
       "    </script>\r\n",
       "</div>"
      ]
     },
     "metadata": {},
     "output_type": "display_data"
    }
   ],
   "source": [
    "let fib_logarithmic n = \n",
    "    let rec loop a b p q count =\n",
    "        if count = 0 then b\n",
    "        elif count%2 = 0 then loop a b (p*p + q*q) (2*p*q + q*q) (count/2)\n",
    "        else loop (a*p + a*q + b*q) (b*p + a*q) p q (count-1)\n",
    "    loop 1 0 0 1 n"
   ]
  },
  {
   "cell_type": "code",
   "execution_count": 22,
   "metadata": {},
   "outputs": [
    {
     "name": "stdout",
     "output_type": "stream",
     "text": [
      "Fib(1) = 1 == 1\n",
      "Fib(2) = 1 == 1\n",
      "Fib(3) = 2 == 2\n",
      "Fib(4) = 3 == 3\n",
      "Fib(5) = 5 == 5\n",
      "Fib(6) = 8 == 8\n",
      "Fib(7) = 13 == 13\n",
      "Fib(8) = 21 == 21\n",
      "Fib(9) = 34 == 34\n",
      "Fib(10) = 55 == 55\n",
      "Fib(11) = 89 == 89\n",
      "Fib(12) = 144 == 144\n",
      "Fib(13) = 233 == 233\n",
      "Fib(14) = 377 == 377\n",
      "Fib(15) = 610 == 610\n",
      "Fib(16) = 987 == 987\n",
      "Fib(17) = 1597 == 1597\n",
      "Fib(18) = 2584 == 2584\n",
      "Fib(19) = 4181 == 4181\n",
      "Fib(20) = 6765 == 6765\n"
     ]
    }
   ],
   "source": [
    "for i in 1 .. 20 do\n",
    "    printfn $\"Fib({i}) = {fib i} == {fib_logarithmic i}\""
   ]
  },
  {
   "cell_type": "markdown",
   "metadata": {},
   "source": [
    "### 1.2.5 Greatest Common Divisors "
   ]
  },
  {
   "cell_type": "code",
   "execution_count": 2,
   "metadata": {},
   "outputs": [],
   "source": [
    "let rec gcd (a:int) (b:int) = \n",
    "    if b = 0 then a\n",
    "    else gcd b (a%b)"
   ]
  },
  {
   "cell_type": "code",
   "execution_count": 3,
   "metadata": {},
   "outputs": [
    {
     "data": {
      "text/html": [
       "<div class=\"dni-plaintext\">5</div>"
      ]
     },
     "execution_count": 3,
     "metadata": {},
     "output_type": "execute_result"
    }
   ],
   "source": [
    "gcd 15 5"
   ]
  },
  {
   "cell_type": "code",
   "execution_count": 4,
   "metadata": {},
   "outputs": [
    {
     "data": {
      "text/html": [
       "<div class=\"dni-plaintext\">5</div>"
      ]
     },
     "execution_count": 4,
     "metadata": {},
     "output_type": "execute_result"
    }
   ],
   "source": [
    "gcd 5 15"
   ]
  },
  {
   "cell_type": "code",
   "execution_count": 5,
   "metadata": {},
   "outputs": [
    {
     "data": {
      "text/html": [
       "<div class=\"dni-plaintext\">1</div>"
      ]
     },
     "execution_count": 5,
     "metadata": {},
     "output_type": "execute_result"
    }
   ],
   "source": [
    "gcd 2 13"
   ]
  },
  {
   "cell_type": "markdown",
   "metadata": {},
   "source": [
    "#### Proof of the runtime complexity\n",
    "\n",
    "Without the loss of generality assume that $a \\ge b$. \n",
    "If this is not the case, i.e. $a < b$, then $a\\%b = a$, so $gcd(a, b)= gcd(b, a\\%b) = gcd(b, a)$. So we add one extra step to the overall complexity.\n",
    "\n",
    "Now assume that we generate $(a_{k+1}, b_{k+1}) \\to (a_k, b_k) \\to (a_{k-1}, b_{k-1})$\n",
    "\n",
    "**Lemma :** \n",
    "$b_{k+1} \\ge b_k + b_{k-1}$\n",
    "\n",
    "**Proof :**\n",
    "Since $(a_{k-1}, b_{k-1}) \\gets (b_k, a_k \\% b_k)$, $a_k = b_{k-1} + q*b_k \\ge b_{k-1} + b_k$, as $q \\ge 1$\n",
    "\n",
    "But because $(a_k, b_k) \\gets (b_{k+1}, a_{k+1}\\%b_{k+1})$, $a_k = b_{k+1} \\ge b_{k-1} + b_k$ $\\square$\n",
    "\n",
    "**Lame's Theorem :** \n",
    "    \n",
    "    If Euclid’s Algorithm requires k steps to compute the gcd of some pair, then the smaller number in the pair must be greater than or equal to the kth Fibonacci number.\n",
    "    \n",
    "**Proof by Induction:**\n",
    "\n",
    "**Base k = 1.**\n",
    "\n",
    "Here, b must be either 1 or must divide a. In either case it is $\\ge Fib(1) = 1$\n",
    "\n",
    "**Induction:**\n",
    "\n",
    "Assume that theorem holds for $n \\le k$. We know that $b_{k+1} \\ge b_{k-1} + b_k$. \n",
    "\n",
    "From inductive hypothesis we know that \n",
    "$$\n",
    "\\begin{align*}\n",
    "b_{k-1} &\\ge Fib(k-1) \\\\\n",
    "b_k &\\ge Fib(k)\n",
    "\\end{align*}\n",
    "$$\n",
    "\n",
    "So, $b_{k+1} \\ge Fib(k-1) + Fib(k) = Fib(k+1)$\n",
    "\n",
    "Now, we know that $b \\ge Fib(k)\\approx \\Phi^k/\\sqrt{5}$.\n",
    "\n",
    "Thus, $k \\le \\log_{\\Phi}{\\sqrt{5}b}$ \n",
    "\n",
    "This is the worst case upper bound."
   ]
  },
  {
   "cell_type": "markdown",
   "metadata": {},
   "source": [
    "### 1.2.6 Example: Testing for Primality "
   ]
  },
  {
   "cell_type": "code",
   "execution_count": 28,
   "metadata": {},
   "outputs": [],
   "source": [
    "let divides n a = a%n = 0"
   ]
  },
  {
   "cell_type": "code",
   "execution_count": 73,
   "metadata": {},
   "outputs": [],
   "source": [
    "let rec findDivisor n test = \n",
    "    if test*test > n then n\n",
    "    elif divides test n then test\n",
    "    else findDivisor n (test+1)\n",
    "\n",
    "let smallestDivisor n = findDivisor n 2"
   ]
  },
  {
   "cell_type": "code",
   "execution_count": 37,
   "metadata": {},
   "outputs": [],
   "source": [
    "let isPrime n = (findDivisor n 2) = n"
   ]
  },
  {
   "cell_type": "markdown",
   "metadata": {},
   "source": [
    "\n",
    "#### Fermat's test\n",
    "\n",
    "Fermat’s Little Theorem: \n",
    "    \n",
    "    If n is a prime number and a is any positive integer less than n, then a raised to the nth power is congruent to a modulo n.\n",
    "    \n",
    "If $n$ is prime and $ 0 < a < n$, then $ a^n \\equiv a \\% n $"
   ]
  },
  {
   "cell_type": "code",
   "execution_count": 46,
   "metadata": {},
   "outputs": [],
   "source": [
    "let rec expmod b n m = \n",
    "    if n = 0 then 1\n",
    "    elif n%2 = 0 then (pown (expmod b (n/2) m) 2) % m\n",
    "    else (b * (expmod b (n-1) m)) % m"
   ]
  },
  {
   "cell_type": "code",
   "execution_count": 53,
   "metadata": {},
   "outputs": [],
   "source": [
    "let rnd = System.Random()"
   ]
  },
  {
   "cell_type": "code",
   "execution_count": 58,
   "metadata": {},
   "outputs": [],
   "source": [
    "let fermatTest n = \n",
    "    let a = rnd.Next(1, n)\n",
    "    (expmod a n n) = a"
   ]
  },
  {
   "cell_type": "code",
   "execution_count": 67,
   "metadata": {},
   "outputs": [
    {
     "data": {
      "text/html": [
       "<div class=\"dni-plaintext\">True</div>"
      ]
     },
     "execution_count": 67,
     "metadata": {},
     "output_type": "execute_result"
    }
   ],
   "source": [
    "fermatTest(17)"
   ]
  },
  {
   "cell_type": "code",
   "execution_count": 68,
   "metadata": {},
   "outputs": [],
   "source": [
    "let rec fastPrime n times = \n",
    "    if times = 0 then true\n",
    "    elif fermatTest n then fastPrime n (times-1)\n",
    "    else false"
   ]
  },
  {
   "cell_type": "code",
   "execution_count": 69,
   "metadata": {},
   "outputs": [
    {
     "data": {
      "text/html": [
       "<div class=\"dni-plaintext\">False</div>"
      ]
     },
     "execution_count": 69,
     "metadata": {},
     "output_type": "execute_result"
    }
   ],
   "source": [
    "fastPrime 10 100"
   ]
  },
  {
   "cell_type": "code",
   "execution_count": 70,
   "metadata": {},
   "outputs": [
    {
     "data": {
      "text/html": [
       "<div class=\"dni-plaintext\">True</div>"
      ]
     },
     "execution_count": 70,
     "metadata": {},
     "output_type": "execute_result"
    }
   ],
   "source": [
    "fastPrime 29 100"
   ]
  },
  {
   "cell_type": "markdown",
   "metadata": {},
   "source": [
    "There are numbers that fool fermat's test everytime. These are called `Carmichael numbers`. There are 255 such numbers that are less than 10^9. The smallest few are 561, 1105, 1729, 2465, 2821, and 6601. "
   ]
  },
  {
   "cell_type": "markdown",
   "metadata": {},
   "source": [
    "#### Exercise 1.21"
   ]
  },
  {
   "cell_type": "code",
   "execution_count": 76,
   "metadata": {},
   "outputs": [
    {
     "name": "stdout",
     "output_type": "stream",
     "text": [
      "199 -> 199\n",
      "1999 -> 1999\n",
      "19999 -> 7\n"
     ]
    }
   ],
   "source": [
    "for n in [199; 1999; 19999] do\n",
    "    printfn $\"{n} -> {smallestDivisor n}\""
   ]
  },
  {
   "cell_type": "code",
   "execution_count": 80,
   "metadata": {},
   "outputs": [
    {
     "data": {
      "text/html": [
       "<div class=\"dni-plaintext\">9</div>"
      ]
     },
     "execution_count": 80,
     "metadata": {},
     "output_type": "execute_result"
    }
   ],
   "source": [
    "y"
   ]
  },
  {
   "cell_type": "code",
   "execution_count": null,
   "metadata": {},
   "outputs": [],
   "source": []
  }
 ],
 "metadata": {
  "kernelspec": {
   "display_name": ".NET (F#)",
   "language": "F#",
   "name": ".net-fsharp"
  },
  "language_info": {
   "file_extension": ".fs",
   "mimetype": "text/x-fsharp",
   "name": "F#",
   "pygments_lexer": "fsharp",
   "version": "5.0"
  }
 },
 "nbformat": 4,
 "nbformat_minor": 4
}
